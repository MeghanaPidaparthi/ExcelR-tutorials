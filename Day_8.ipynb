{
  "nbformat": 4,
  "nbformat_minor": 0,
  "metadata": {
    "colab": {
      "provenance": [],
      "authorship_tag": "ABX9TyNTxoTGUbJ0uy2nq+MhzNcV",
      "include_colab_link": true
    },
    "kernelspec": {
      "name": "python3",
      "display_name": "Python 3"
    },
    "language_info": {
      "name": "python"
    }
  },
  "cells": [
    {
      "cell_type": "markdown",
      "metadata": {
        "id": "view-in-github",
        "colab_type": "text"
      },
      "source": [
        "<a href=\"https://colab.research.google.com/github/MeghanaPidaparthi/ExcelR-assignments/blob/main/Day_8.ipynb\" target=\"_parent\"><img src=\"https://colab.research.google.com/assets/colab-badge.svg\" alt=\"Open In Colab\"/></a>"
      ]
    },
    {
      "cell_type": "code",
      "execution_count": 1,
      "metadata": {
        "id": "tY4gBfrjh55H"
      },
      "outputs": [],
      "source": [
        "import numpy as np"
      ]
    },
    {
      "cell_type": "code",
      "source": [
        "a = np.random.randint(0,10,10)"
      ],
      "metadata": {
        "id": "9nBEXMcBmCVq"
      },
      "execution_count": 6,
      "outputs": []
    },
    {
      "cell_type": "code",
      "source": [
        "a"
      ],
      "metadata": {
        "colab": {
          "base_uri": "https://localhost:8080/"
        },
        "id": "fnKeYJD9mGY9",
        "outputId": "e911fae4-3f5c-46ae-ee0d-0cca8646574d"
      },
      "execution_count": 7,
      "outputs": [
        {
          "output_type": "execute_result",
          "data": {
            "text/plain": [
              "array([8, 5, 8, 9, 5, 4, 6, 9, 4, 7])"
            ]
          },
          "metadata": {},
          "execution_count": 7
        }
      ]
    },
    {
      "cell_type": "code",
      "source": [
        "np.random.seed(234)"
      ],
      "metadata": {
        "id": "yoM-sFWYmX1E"
      },
      "execution_count": 14,
      "outputs": []
    },
    {
      "cell_type": "code",
      "source": [
        "arr = np.random.randint(20,99,(6,7))"
      ],
      "metadata": {
        "id": "OL1FH6X6m1hu"
      },
      "execution_count": 15,
      "outputs": []
    },
    {
      "cell_type": "code",
      "source": [
        "arr"
      ],
      "metadata": {
        "colab": {
          "base_uri": "https://localhost:8080/"
        },
        "id": "-WP61oGqm6i7",
        "outputId": "e8a5b729-35ed-4faf-e3fe-4fd90743f71d"
      },
      "execution_count": 16,
      "outputs": [
        {
          "output_type": "execute_result",
          "data": {
            "text/plain": [
              "array([[92, 51, 88, 77, 53, 23, 74],\n",
              "       [83, 87, 54, 74, 28, 59, 91],\n",
              "       [52, 79, 84, 46, 91, 43, 23],\n",
              "       [35, 65, 65, 23, 97, 93, 71],\n",
              "       [39, 40, 43, 38, 27, 35, 61],\n",
              "       [23, 93, 60, 93, 75, 43, 98]])"
            ]
          },
          "metadata": {},
          "execution_count": 16
        }
      ]
    },
    {
      "cell_type": "code",
      "source": [
        "m=[5,20,45,234]"
      ],
      "metadata": {
        "id": "Q_pom673m72k"
      },
      "execution_count": 17,
      "outputs": []
    },
    {
      "cell_type": "code",
      "source": [
        "m"
      ],
      "metadata": {
        "colab": {
          "base_uri": "https://localhost:8080/"
        },
        "id": "gb3SjNSSn6pU",
        "outputId": "3f5d5d8d-c417-4446-cf01-e3ac3520bd93"
      },
      "execution_count": 18,
      "outputs": [
        {
          "output_type": "execute_result",
          "data": {
            "text/plain": [
              "[5, 20, 45, 234]"
            ]
          },
          "metadata": {},
          "execution_count": 18
        }
      ]
    },
    {
      "cell_type": "code",
      "source": [
        "m = [5,10,20,45,234]\n",
        "for i in range(len(m)):\n",
        "  m[i]=m[i]**2\n",
        "m\n"
      ],
      "metadata": {
        "colab": {
          "base_uri": "https://localhost:8080/"
        },
        "id": "P_EcfMtNn7tG",
        "outputId": "008e46f0-8ee4-4874-f14a-dc4e4401dcd2"
      },
      "execution_count": 21,
      "outputs": [
        {
          "output_type": "execute_result",
          "data": {
            "text/plain": [
              "[25, 100, 400, 2025, 54756]"
            ]
          },
          "metadata": {},
          "execution_count": 21
        }
      ]
    },
    {
      "cell_type": "code",
      "source": [
        "b=(3,6,7,8,9)\n",
        "b"
      ],
      "metadata": {
        "colab": {
          "base_uri": "https://localhost:8080/"
        },
        "id": "OUB9edwBosny",
        "outputId": "7e18f44f-4081-44fd-cbd4-097ee85a920c"
      },
      "execution_count": 22,
      "outputs": [
        {
          "output_type": "execute_result",
          "data": {
            "text/plain": [
              "(3, 6, 7, 8, 9)"
            ]
          },
          "metadata": {},
          "execution_count": 22
        }
      ]
    },
    {
      "cell_type": "code",
      "source": [
        "b_list = list(b)"
      ],
      "metadata": {
        "id": "JrITNxxGq2cg"
      },
      "execution_count": 26,
      "outputs": []
    },
    {
      "cell_type": "code",
      "source": [
        "b= tuple(x+5 for x in b)"
      ],
      "metadata": {
        "id": "qNz4b2xbrx3R"
      },
      "execution_count": 29,
      "outputs": []
    },
    {
      "cell_type": "code",
      "source": [
        "b"
      ],
      "metadata": {
        "colab": {
          "base_uri": "https://localhost:8080/"
        },
        "id": "9ypfqhoasILn",
        "outputId": "5edc4342-95b9-4117-f6ed-56937054c47e"
      },
      "execution_count": 30,
      "outputs": [
        {
          "output_type": "execute_result",
          "data": {
            "text/plain": [
              "(8, 11, 12, 13, 14)"
            ]
          },
          "metadata": {},
          "execution_count": 30
        }
      ]
    },
    {
      "cell_type": "code",
      "source": [
        "k=[55,25,85,75,35,45,95]\n",
        "k"
      ],
      "metadata": {
        "colab": {
          "base_uri": "https://localhost:8080/"
        },
        "id": "2A23iEZosh7f",
        "outputId": "02c87ac9-69ac-4363-e675-8cc2833424eb"
      },
      "execution_count": 31,
      "outputs": [
        {
          "output_type": "execute_result",
          "data": {
            "text/plain": [
              "[55, 25, 85, 75, 35, 45, 95]"
            ]
          },
          "metadata": {},
          "execution_count": 31
        }
      ]
    },
    {
      "cell_type": "code",
      "source": [
        "for i in range(len(k)):\n",
        "  if(k[i]>50):\n",
        "    print(k[i])"
      ],
      "metadata": {
        "colab": {
          "base_uri": "https://localhost:8080/"
        },
        "id": "gu7yaWsps15J",
        "outputId": "b07a13f4-3647-4019-8c0d-54971db3b470"
      },
      "execution_count": 33,
      "outputs": [
        {
          "output_type": "stream",
          "name": "stdout",
          "text": [
            "55\n",
            "85\n",
            "75\n",
            "95\n"
          ]
        }
      ]
    },
    {
      "cell_type": "code",
      "source": [
        "d=[]\n",
        "for i in k:\n",
        "  if i<50:\n",
        "    d.append(i)"
      ],
      "metadata": {
        "id": "BwPz0BBgs3WS"
      },
      "execution_count": 34,
      "outputs": []
    },
    {
      "cell_type": "code",
      "source": [
        "d"
      ],
      "metadata": {
        "colab": {
          "base_uri": "https://localhost:8080/"
        },
        "id": "85uA47nZu_F3",
        "outputId": "618c8557-f9de-4e8f-8513-6af89e788784"
      },
      "execution_count": 35,
      "outputs": [
        {
          "output_type": "execute_result",
          "data": {
            "text/plain": [
              "[25, 35, 45]"
            ]
          },
          "metadata": {},
          "execution_count": 35
        }
      ]
    },
    {
      "cell_type": "code",
      "source": [
        "arr = [1, 5, 10, 15, 20,99,75,67,98,88,99,12]"
      ],
      "metadata": {
        "id": "KtMJgPwyvAX2"
      },
      "execution_count": 39,
      "outputs": []
    },
    {
      "cell_type": "code",
      "source": [
        "arr"
      ],
      "metadata": {
        "colab": {
          "base_uri": "https://localhost:8080/"
        },
        "id": "0y-P0j9CxAwy",
        "outputId": "262afaad-0713-4421-de2b-fec610a4b23e"
      },
      "execution_count": 40,
      "outputs": [
        {
          "output_type": "execute_result",
          "data": {
            "text/plain": [
              "[1, 5, 10, 15, 20, 99, 75, 67, 98, 88, 99, 12]"
            ]
          },
          "metadata": {},
          "execution_count": 40
        }
      ]
    },
    {
      "cell_type": "code",
      "source": [
        "import numpy as np\n",
        "arr=np.array(arr)\n",
        "arr[arr < 40]"
      ],
      "metadata": {
        "colab": {
          "base_uri": "https://localhost:8080/"
        },
        "id": "WCSQ_lsrxCQx",
        "outputId": "c99fc69c-c643-421c-8de2-1571659c7e97"
      },
      "execution_count": 46,
      "outputs": [
        {
          "output_type": "execute_result",
          "data": {
            "text/plain": [
              "array([ 1,  5, 10, 15, 20, 12])"
            ]
          },
          "metadata": {},
          "execution_count": 46
        }
      ]
    },
    {
      "cell_type": "code",
      "source": [
        "arr>50"
      ],
      "metadata": {
        "colab": {
          "base_uri": "https://localhost:8080/"
        },
        "id": "iyaIIaawxHxg",
        "outputId": "98e095d5-72b1-4ff0-ed4a-1eb6882af7cc"
      },
      "execution_count": 47,
      "outputs": [
        {
          "output_type": "execute_result",
          "data": {
            "text/plain": [
              "array([False, False, False, False, False,  True,  True,  True,  True,\n",
              "        True,  True, False])"
            ]
          },
          "metadata": {},
          "execution_count": 47
        }
      ]
    },
    {
      "cell_type": "code",
      "source": [],
      "metadata": {
        "id": "YqZwLJDaxnAd"
      },
      "execution_count": null,
      "outputs": []
    }
  ]
}