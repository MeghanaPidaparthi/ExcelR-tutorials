{
  "nbformat": 4,
  "nbformat_minor": 0,
  "metadata": {
    "colab": {
      "provenance": [],
      "authorship_tag": "ABX9TyP2lqUvh7aLGIWuy2oH1DtP",
      "include_colab_link": true
    },
    "kernelspec": {
      "name": "python3",
      "display_name": "Python 3"
    },
    "language_info": {
      "name": "python"
    }
  },
  "cells": [
    {
      "cell_type": "markdown",
      "metadata": {
        "id": "view-in-github",
        "colab_type": "text"
      },
      "source": [
        "<a href=\"https://colab.research.google.com/github/MeghanaPidaparthi/ExcelR-assignments/blob/main/Day_9.ipynb\" target=\"_parent\"><img src=\"https://colab.research.google.com/assets/colab-badge.svg\" alt=\"Open In Colab\"/></a>"
      ]
    },
    {
      "cell_type": "code",
      "execution_count": 1,
      "metadata": {
        "id": "bNpRGkmA_F0y"
      },
      "outputs": [],
      "source": [
        "import pandas as pd\n",
        "import numpy as np"
      ]
    },
    {
      "cell_type": "code",
      "source": [
        "a=[30,48,289,45,26,84,81,77,22,93,49,59,84,96,20,11,47]\n",
        "a\n",
        "type(a)"
      ],
      "metadata": {
        "colab": {
          "base_uri": "https://localhost:8080/"
        },
        "id": "7U0hjJRs_QXc",
        "outputId": "9d2eb81a-913b-42fa-b2b0-3caa7092d2cd"
      },
      "execution_count": 4,
      "outputs": [
        {
          "output_type": "execute_result",
          "data": {
            "text/plain": [
              "list"
            ]
          },
          "metadata": {},
          "execution_count": 4
        }
      ]
    },
    {
      "cell_type": "code",
      "source": [
        "a"
      ],
      "metadata": {
        "colab": {
          "base_uri": "https://localhost:8080/"
        },
        "id": "ayN00rD4I8tU",
        "outputId": "90adb5aa-9e13-4f94-8416-0350b3c668c9"
      },
      "execution_count": 5,
      "outputs": [
        {
          "output_type": "execute_result",
          "data": {
            "text/plain": [
              "[30, 48, 289, 45, 26, 84, 81, 77, 22, 93, 49, 59, 84, 96, 20, 11, 47]"
            ]
          },
          "metadata": {},
          "execution_count": 5
        }
      ]
    },
    {
      "cell_type": "code",
      "source": [
        "a[-2:-10:-1]"
      ],
      "metadata": {
        "colab": {
          "base_uri": "https://localhost:8080/"
        },
        "id": "mXVRGF-QI-cq",
        "outputId": "479ec6a0-7dc8-4fdc-b4d0-41bcf500920d"
      },
      "execution_count": 6,
      "outputs": [
        {
          "output_type": "execute_result",
          "data": {
            "text/plain": [
              "[11, 20, 96, 84, 59, 49, 93, 22]"
            ]
          },
          "metadata": {},
          "execution_count": 6
        }
      ]
    },
    {
      "cell_type": "code",
      "source": [
        "np.random.seed(94)\n",
        "b= np.random.randint(15,50,(7,8))\n",
        "b"
      ],
      "metadata": {
        "colab": {
          "base_uri": "https://localhost:8080/"
        },
        "id": "faHWUvh7JPGX",
        "outputId": "e95d52e9-1505-446e-fba1-b7806b64f956"
      },
      "execution_count": 8,
      "outputs": [
        {
          "output_type": "execute_result",
          "data": {
            "text/plain": [
              "array([[33, 15, 18, 37, 44, 34, 31, 23],\n",
              "       [31, 29, 48, 25, 47, 39, 39, 18],\n",
              "       [30, 41, 26, 21, 28, 29, 17, 38],\n",
              "       [49, 47, 16, 15, 48, 22, 44, 35],\n",
              "       [23, 30, 25, 34, 42, 16, 39, 35],\n",
              "       [45, 45, 21, 45, 37, 48, 23, 47],\n",
              "       [30, 37, 37, 17, 45, 24, 44, 39]])"
            ]
          },
          "metadata": {},
          "execution_count": 8
        }
      ]
    },
    {
      "cell_type": "code",
      "source": [
        "b"
      ],
      "metadata": {
        "colab": {
          "base_uri": "https://localhost:8080/"
        },
        "id": "n3lffMHgJheO",
        "outputId": "fc37c499-178f-4cfa-ec76-ae4ac514ec56"
      },
      "execution_count": 9,
      "outputs": [
        {
          "output_type": "execute_result",
          "data": {
            "text/plain": [
              "array([[33, 15, 18, 37, 44, 34, 31, 23],\n",
              "       [31, 29, 48, 25, 47, 39, 39, 18],\n",
              "       [30, 41, 26, 21, 28, 29, 17, 38],\n",
              "       [49, 47, 16, 15, 48, 22, 44, 35],\n",
              "       [23, 30, 25, 34, 42, 16, 39, 35],\n",
              "       [45, 45, 21, 45, 37, 48, 23, 47],\n",
              "       [30, 37, 37, 17, 45, 24, 44, 39]])"
            ]
          },
          "metadata": {},
          "execution_count": 9
        }
      ]
    },
    {
      "cell_type": "code",
      "source": [
        "b[:,-1] #last column"
      ],
      "metadata": {
        "colab": {
          "base_uri": "https://localhost:8080/"
        },
        "id": "hFsRzu5jJlSG",
        "outputId": "d2639ece-dbf0-4a73-d389-3a85674fc3d8"
      },
      "execution_count": 11,
      "outputs": [
        {
          "output_type": "execute_result",
          "data": {
            "text/plain": [
              "array([23, 18, 38, 35, 35, 47, 39])"
            ]
          },
          "metadata": {},
          "execution_count": 11
        }
      ]
    },
    {
      "cell_type": "code",
      "source": [
        "b[6,4]"
      ],
      "metadata": {
        "colab": {
          "base_uri": "https://localhost:8080/"
        },
        "id": "h_nwiyrtJrhS",
        "outputId": "92c6222e-8016-4851-80ad-82ca68f39948"
      },
      "execution_count": 12,
      "outputs": [
        {
          "output_type": "execute_result",
          "data": {
            "text/plain": [
              "45"
            ]
          },
          "metadata": {},
          "execution_count": 12
        }
      ]
    },
    {
      "cell_type": "code",
      "source": [
        "b[1:5]"
      ],
      "metadata": {
        "colab": {
          "base_uri": "https://localhost:8080/"
        },
        "id": "lizZYlbeJyQ_",
        "outputId": "87850106-cdf6-4fe1-905e-b013d2911efd"
      },
      "execution_count": 13,
      "outputs": [
        {
          "output_type": "execute_result",
          "data": {
            "text/plain": [
              "array([[31, 29, 48, 25, 47, 39, 39, 18],\n",
              "       [30, 41, 26, 21, 28, 29, 17, 38],\n",
              "       [49, 47, 16, 15, 48, 22, 44, 35],\n",
              "       [23, 30, 25, 34, 42, 16, 39, 35]])"
            ]
          },
          "metadata": {},
          "execution_count": 13
        }
      ]
    },
    {
      "cell_type": "code",
      "source": [],
      "metadata": {
        "id": "FKVFHpCRJ0qp"
      },
      "execution_count": null,
      "outputs": []
    }
  ]
}